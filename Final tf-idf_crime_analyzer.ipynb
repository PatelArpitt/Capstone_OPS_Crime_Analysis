{
 "cells": [
  {
   "cell_type": "code",
   "execution_count": 1,
   "id": "01d88a93",
   "metadata": {},
   "outputs": [
    {
     "name": "stdout",
     "output_type": "stream",
     "text": [
      "Accuracy: 0.7317073170731707\n"
     ]
    }
   ],
   "source": [
    "import numpy as np\n",
    "import pandas as pd\n",
    "from sklearn.feature_extraction.text import TfidfVectorizer\n",
    "from sklearn.model_selection import train_test_split\n",
    "from sklearn.svm import LinearSVC\n",
    "from sklearn.metrics import accuracy_score\n",
    "import re\n",
    "\n",
    "# load dataset\n",
    "data = pd.read_excel('manually_tagged_sentences.xlsx')\n",
    "data.dropna(inplace=True)\n",
    "\n",
    "# split dataset into train and test sets\n",
    "train_data, test_data = train_test_split(data, test_size=0.3, random_state=0)\n",
    "\n",
    "# vectorize the text data using TF-IDF\n",
    "vectorizer = TfidfVectorizer(stop_words='english')\n",
    "train_vectors = vectorizer.fit_transform(train_data['sentences'])\n",
    "test_vectors = vectorizer.transform(test_data['sentences'])\n",
    "\n",
    "# train the SVM model on the vectorized data\n",
    "model = LinearSVC()\n",
    "model.fit(train_vectors, train_data['type'])\n",
    "\n",
    "# predict the labels of the test set\n",
    "predictions = model.predict(test_vectors)\n",
    "\n",
    "# evaluate the accuracy of the model\n",
    "accuracy = accuracy_score(test_data['type'], predictions)\n",
    "print(\"Accuracy:\", accuracy)"
   ]
  },
  {
   "cell_type": "code",
   "execution_count": 2,
   "id": "72119cfe",
   "metadata": {},
   "outputs": [],
   "source": [
    "import pandas as pd\n",
    "from sklearn.feature_extraction.text import TfidfVectorizer\n",
    "from sklearn.model_selection import train_test_split\n",
    "from sklearn.svm import LinearSVC\n",
    "from sklearn.metrics import accuracy_score\n",
    "import joblib\n",
    "from openpyxl import load_workbook\n",
    "\n",
    "# load dataset\n",
    "data = pd.read_excel('manually_tagged_sentences.xlsx')\n",
    "#data['type'] = data['type'].fillna(value='NEITHER')\n",
    "data.dropna(inplace=True)\n",
    "\n",
    "# split dataset into train and test sets\n",
    "train_data, test_data = train_test_split(data, test_size=0.4, random_state=42)\n",
    "\n",
    "# vectorize the text data using TF-IDF\n",
    "vectorizer = TfidfVectorizer(stop_words='english')\n",
    "train_vectors = vectorizer.fit_transform(train_data['sentences'])\n",
    "test_vectors = vectorizer.transform(test_data['sentences'])\n",
    "\n",
    "# train the SVM model on the vectorized data\n",
    "model = LinearSVC()\n",
    "model.fit(train_vectors, train_data['type'])\n",
    "\n",
    "# save the trained model to a file\n",
    "joblib.dump(model, 'svm_model.sav')\n",
    "\n",
    "# load the trained model from the file\n",
    "loaded_model = joblib.load('svm_model.sav')\n",
    "\n",
    "# load the new data to make predictions on\n",
    "new_data = pd.read_excel('Final all_extracted_sentences.xlsx')\n",
    "new_data.dropna(inplace=True)\n",
    "\n",
    "# vectorize the new data\n",
    "new_vectors = vectorizer.transform(new_data['sentences'])\n",
    "\n",
    "# predict the labels of the new data using the loaded model\n",
    "new_predictions = loaded_model.predict(new_vectors)\n",
    "\n",
    "# add the predictions to the new_data dataframe\n",
    "new_data['type'] = new_predictions\n",
    "\n",
    "# append the new_data dataframe to the existing excel file using the openpyxl engine\n",
    "with pd.ExcelWriter('Final all_extracted_sentences.xlsx', engine='openpyxl', mode='a') as writer:\n",
    "    writer.book = load_workbook('Copy of crime_sentiment_analysis final data.xlsx')\n",
    "    writer.sheets = dict((ws.title, ws) for ws in writer.book.worksheets)\n",
    "    new_data.to_excel(writer, sheet_name='crime_sentiment_testing.xlsx', index=False, header=False)\n"
   ]
  },
  {
   "cell_type": "code",
   "execution_count": 3,
   "id": "86abdaaf",
   "metadata": {},
   "outputs": [
    {
     "name": "stdout",
     "output_type": "stream",
     "text": [
      "Index(['date', 'sentences', 'type'], dtype='object')\n"
     ]
    }
   ],
   "source": [
    "#importing test dataset\n",
    "data = pd.read_excel('Final all_extracted_sentences.xlsx',sheet_name=1)\n",
    "data.columns = ['date', 'sentences', 'type']\n",
    "print(data.columns)"
   ]
  },
  {
   "cell_type": "code",
   "execution_count": 9,
   "id": "dc8caf14",
   "metadata": {},
   "outputs": [
    {
     "name": "stdout",
     "output_type": "stream",
     "text": [
      "                    date                                          sentences  \\\n",
      "0     September 27, 2021   and miigwech/thank you to grandmother irene f...   \n",
      "1     September 27, 2021   the peoples of the algonquin anishinabe natio...   \n",
      "2     September 27, 2021   their culture and presence have nurtured and ...   \n",
      "3     September 27, 2021   our service honours all first nations, inuit ...   \n",
      "4     September 27, 2021   in june of this year, the federal government ...   \n",
      "...                  ...                                                ...   \n",
      "3751    January 26, 2015   inspector john mcgetrick and i will be plungi...   \n",
      "3752    January 26, 2015   i encourage board members to come out to the ...   \n",
      "3753    January 26, 2015    i am happy to answer any questions you may have   \n",
      "3754    January 26, 2015                                          thank you   \n",
      "3755    January 26, 2015                                                      \n",
      "\n",
      "                 type  \n",
      "0     COUNTER MEASURE  \n",
      "1     COUNTER MEASURE  \n",
      "2     COUNTER MEASURE  \n",
      "3     COUNTER MEASURE  \n",
      "4     COUNTER MEASURE  \n",
      "...               ...  \n",
      "3751  COUNTER MEASURE  \n",
      "3752  COUNTER MEASURE  \n",
      "3753  COUNTER MEASURE  \n",
      "3754  COUNTER MEASURE  \n",
      "3755  COUNTER MEASURE  \n",
      "\n",
      "[3756 rows x 3 columns]\n"
     ]
    }
   ],
   "source": [
    "print(data)"
   ]
  },
  {
   "cell_type": "code",
   "execution_count": 10,
   "id": "8e140770",
   "metadata": {},
   "outputs": [],
   "source": [
    "crime_df = data[data['type'] == 'CRIME']"
   ]
  },
  {
   "cell_type": "code",
   "execution_count": 11,
   "id": "7ea65e55",
   "metadata": {},
   "outputs": [
    {
     "name": "stdout",
     "output_type": "stream",
     "text": [
      "                    date                                          sentences  \\\n",
      "13    September 27, 2021   shirley is a member of the mohawk first natio...   \n",
      "14    September 27, 2021   she was the officer in charge of the rcmp’s r...   \n",
      "24    September 27, 2021   this week we will host a “badge ceremony” in ...   \n",
      "30    September 27, 2021                            40% identify as women 2   \n",
      "43    September 27, 2021   i look forward to seeing members of the board...   \n",
      "...                  ...                                                ...   \n",
      "3732    January 26, 2015   the canine unit also attended the scene and l...   \n",
      "3733    January 26, 2015   trevor pratt, age 30, of ottawa, is charged w...   \n",
      "3739    January 26, 2015   this includes the official launch on january ...   \n",
      "3745    January 26, 2015   the event takes place at carleton university ...   \n",
      "3750    January 26, 2015   the largest awareness and funding drive leadi...   \n",
      "\n",
      "       type  num_people_involved          crime_type  \n",
      "13    CRIME                    1             Unknown  \n",
      "14    CRIME                    1            homicide  \n",
      "24    CRIME                    1             Unknown  \n",
      "30    CRIME                    1             Unknown  \n",
      "43    CRIME                    1             Unknown  \n",
      "...     ...                  ...                 ...  \n",
      "3732  CRIME                    1             Unknown  \n",
      "3733  CRIME                    1             Unknown  \n",
      "3739  CRIME                    1             Unknown  \n",
      "3745  CRIME                    1  driving violations  \n",
      "3750  CRIME                    1             Unknown  \n",
      "\n",
      "[541 rows x 5 columns]\n"
     ]
    },
    {
     "name": "stderr",
     "output_type": "stream",
     "text": [
      "C:\\Users\\Savan\\AppData\\Local\\Temp\\ipykernel_13380\\221506719.py:77: SettingWithCopyWarning: \n",
      "A value is trying to be set on a copy of a slice from a DataFrame.\n",
      "Try using .loc[row_indexer,col_indexer] = value instead\n",
      "\n",
      "See the caveats in the documentation: https://pandas.pydata.org/pandas-docs/stable/user_guide/indexing.html#returning-a-view-versus-a-copy\n",
      "  crime_df.loc[:, \"num_people_involved\"] =crime_df[\"sentences\"].apply(detect_num_people).replace(np.nan, 1).astype(int)\n",
      "C:\\Users\\Savan\\AppData\\Local\\Temp\\ipykernel_13380\\221506719.py:78: SettingWithCopyWarning: \n",
      "A value is trying to be set on a copy of a slice from a DataFrame.\n",
      "Try using .loc[row_indexer,col_indexer] = value instead\n",
      "\n",
      "See the caveats in the documentation: https://pandas.pydata.org/pandas-docs/stable/user_guide/indexing.html#returning-a-view-versus-a-copy\n",
      "  crime_df.loc[:, \"crime_type\"] = crime_df[\"sentences\"].apply(detect_crime_type)\n"
     ]
    }
   ],
   "source": [
    "#regex for crime \n",
    "homicide_regex = re.compile(r\"(murder|killing|death|homicide|manslaughter|Guns|shooting|died|offenders|firearm|shots|fired|shoot)\", re.IGNORECASE)\n",
    "stabbing_regex = re.compile(r\"(stabbing|stabbed|knife attack|knife)\", re.IGNORECASE)\n",
    "police_regex = re.compile(r\"(assaulted the officer)\", re.IGNORECASE)\n",
    "stolen_regex = re.compile(r\"(Theft|stolen|fraud|possesion)\", re.IGNORECASE)\n",
    "drug_regex = re.compile(r\"(drug|marijuana|substances|cannabis|products|narcotics|overdosing|overdosed)\", re.IGNORECASE)\n",
    "driving_regex = re.compile(r\"(stunt|driving|licence|demerit|fined|car)\", re.IGNORECASE)\n",
    "hateful_regex = re.compile(r\"(hateful|hate|speech)\", re.IGNORECASE)\n",
    "assault_regex = re.compile(r\"(sexual|sexual assault|harassment|harassing|abusing|abuse|threatening|fighting|rape)\", re.IGNORECASE)\n",
    "\n",
    "\n",
    "\n",
    "\n",
    "#function to detect the type of crime in a sentence\n",
    "def detect_crime_type(sentence):\n",
    "    if re.search(homicide_regex, sentence):\n",
    "        return \"homicide\"\n",
    "    elif re.search(stabbing_regex, sentence):\n",
    "        return \"stabbing\"\n",
    "    elif re.search(police_regex, sentence):\n",
    "        return \"total assaults against a peace officer\"\n",
    "    elif re.search(stolen_regex, sentence):\n",
    "        return \"total possession of stolen property\"\n",
    "    elif re.search(drug_regex, sentence):\n",
    "        return \"drug violations\"\n",
    "    elif re.search(driving_regex, sentence):\n",
    "        return \"driving violations\"\n",
    "    elif re.search(hateful_regex, sentence):\n",
    "        return \"speech violations\"\n",
    "    elif re.search(assault_regex, sentence):\n",
    "        return \"assault and harrassment\"\n",
    "    else:\n",
    "        return \"Unknown\"\n",
    "\n",
    "def detect_num_people(text):\n",
    "    pattern = r\"\\b(\\d+|one|two|three|four|five|six|seven|eight|nine|ten)\\b(?=\\s*(?:for\\s)?(?:criminals?|illicit?|robberies?|arrests?|suspects?|offenders?|men|people|individuals|stunt|criminal|charges))\"\n",
    "    match = re.search(pattern, text)\n",
    "    if match:\n",
    "        num_str = match.group(1)\n",
    "        if num_str.isdigit():\n",
    "            num = int(num_str)\n",
    "            if num > 100: # Assume it's an age\n",
    "                return None\n",
    "            elif num >= 10 and 'old' in text: # Assume it's an age\n",
    "                return None\n",
    "            else:\n",
    "                return num\n",
    "        elif num_str == 'one':\n",
    "            return 1\n",
    "        elif num_str == 'two':\n",
    "            return 2\n",
    "        elif num_str == 'three':\n",
    "            return 3\n",
    "        elif num_str == 'four':\n",
    "            return 4\n",
    "        elif num_str == 'five':\n",
    "            return 5\n",
    "        elif num_str == 'six':\n",
    "            return 6\n",
    "        elif num_str == 'seven':\n",
    "            return 7\n",
    "        elif num_str == 'eight':\n",
    "            return 8\n",
    "        elif num_str == 'nine':\n",
    "            return 9\n",
    "        elif num_str == 'ten':\n",
    "            return 10\n",
    "    else:\n",
    "        return None\n",
    "\n",
    "\n",
    "crime_df.loc[:, \"num_people_involved\"] =crime_df[\"sentences\"].apply(detect_num_people).replace(np.nan, 1).astype(int)\n",
    "crime_df.loc[:, \"crime_type\"] = crime_df[\"sentences\"].apply(detect_crime_type)\n",
    "\n",
    "\n",
    "# Print the modified DataFrame\n",
    "print(crime_df)"
   ]
  },
  {
   "cell_type": "code",
   "execution_count": 12,
   "id": "b98729ed",
   "metadata": {},
   "outputs": [
    {
     "name": "stdout",
     "output_type": "stream",
     "text": [
      "                    date                                          sentences  \\\n",
      "13    September 27, 2021   shirley is a member of the mohawk first natio...   \n",
      "14    September 27, 2021   she was the officer in charge of the rcmp’s r...   \n",
      "24    September 27, 2021   this week we will host a “badge ceremony” in ...   \n",
      "30    September 27, 2021                            40% identify as women 2   \n",
      "43    September 27, 2021   i look forward to seeing members of the board...   \n",
      "...                  ...                                                ...   \n",
      "3732    January 26, 2015   the canine unit also attended the scene and l...   \n",
      "3733    January 26, 2015   trevor pratt, age 30, of ottawa, is charged w...   \n",
      "3739    January 26, 2015   this includes the official launch on january ...   \n",
      "3745    January 26, 2015   the event takes place at carleton university ...   \n",
      "3750    January 26, 2015   the largest awareness and funding drive leadi...   \n",
      "\n",
      "      num_people_involved          crime_type  \n",
      "13                      1             Unknown  \n",
      "14                      1            homicide  \n",
      "24                      1             Unknown  \n",
      "30                      1             Unknown  \n",
      "43                      1             Unknown  \n",
      "...                   ...                 ...  \n",
      "3732                    1             Unknown  \n",
      "3733                    1             Unknown  \n",
      "3739                    1             Unknown  \n",
      "3745                    1  driving violations  \n",
      "3750                    1             Unknown  \n",
      "\n",
      "[541 rows x 4 columns]\n"
     ]
    }
   ],
   "source": [
    "crime_df = crime_df.drop('type', axis=1)\n",
    "print(crime_df)"
   ]
  },
  {
   "cell_type": "code",
   "execution_count": 14,
   "id": "5c1e5699",
   "metadata": {},
   "outputs": [],
   "source": [
    "crime_df.drop(crime_df.loc[crime_df['crime_type'] == 'Unknown'].index, inplace=True)"
   ]
  },
  {
   "cell_type": "code",
   "execution_count": 15,
   "id": "2e42cffc",
   "metadata": {},
   "outputs": [
    {
     "name": "stdout",
     "output_type": "stream",
     "text": [
      "                    date                                          sentences  \\\n",
      "14    September 27, 2021   she was the officer in charge of the rcmp’s r...   \n",
      "48    September 27, 2021   stunt driving offences doubled during last ye...   \n",
      "51    September 27, 2021   in a brazen act of criminal violence , the ma...   \n",
      "58    September 27, 2021   the man was charged with attempted murder, po...   \n",
      "59    September 27, 2021   the security guard suffered non -life-threate...   \n",
      "...                  ...                                                ...   \n",
      "3679   February 23, 2015   the suspect left his friend’s room and entere...   \n",
      "3681   February 23, 2015   he has been charged with sexual assault and b...   \n",
      "3706    January 26, 2015   that investigation lead to a search warrant o...   \n",
      "3708    January 26, 2015   arrest on attempted murder charges this past ...   \n",
      "3745    January 26, 2015   the event takes place at carleton university ...   \n",
      "\n",
      "      num_people_involved               crime_type  \n",
      "14                      1                 homicide  \n",
      "48                      1       driving violations  \n",
      "51                      1                 homicide  \n",
      "58                      1                 homicide  \n",
      "59                      1  assault and harrassment  \n",
      "...                   ...                      ...  \n",
      "3679                    1  assault and harrassment  \n",
      "3681                    1  assault and harrassment  \n",
      "3706                    1          drug violations  \n",
      "3708                    1                 homicide  \n",
      "3745                    1       driving violations  \n",
      "\n",
      "[182 rows x 4 columns]\n"
     ]
    }
   ],
   "source": [
    "print(crime_df)"
   ]
  },
  {
   "cell_type": "code",
   "execution_count": 16,
   "id": "20d829ab",
   "metadata": {},
   "outputs": [],
   "source": [
    "#export to excel as final dataset\n",
    "output_path = 'Final crime_analyzer_output.xlsx'\n",
    "crime_df.to_excel(output_path, index=False)"
   ]
  }
 ],
 "metadata": {
  "kernelspec": {
   "display_name": "Python 3 (ipykernel)",
   "language": "python",
   "name": "python3"
  },
  "language_info": {
   "codemirror_mode": {
    "name": "ipython",
    "version": 3
   },
   "file_extension": ".py",
   "mimetype": "text/x-python",
   "name": "python",
   "nbconvert_exporter": "python",
   "pygments_lexer": "ipython3",
   "version": "3.9.15"
  }
 },
 "nbformat": 4,
 "nbformat_minor": 5
}
